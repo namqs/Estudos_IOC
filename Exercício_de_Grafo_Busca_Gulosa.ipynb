{
  "nbformat": 4,
  "nbformat_minor": 0,
  "metadata": {
    "colab": {
      "provenance": [],
      "include_colab_link": true
    },
    "kernelspec": {
      "name": "python3",
      "display_name": "Python 3"
    }
  },
  "cells": [
    {
      "cell_type": "markdown",
      "metadata": {
        "id": "view-in-github",
        "colab_type": "text"
      },
      "source": [
        "<a href=\"https://colab.research.google.com/github/namqs/Estudos_IOC/blob/main/Exerc%C3%ADcio_de_Grafo_Busca_Gulosa.ipynb\" target=\"_parent\"><img src=\"https://colab.research.google.com/assets/colab-badge.svg\" alt=\"Open In Colab\"/></a>"
      ]
    },
    {
      "cell_type": "markdown",
      "metadata": {
        "id": "r2ZZwVzmSD9w"
      },
      "source": [
        "# Grafo - Busca gulosa"
      ]
    },
    {
      "cell_type": "markdown",
      "metadata": {
        "id": "PgOWgXWsNWEr"
      },
      "source": [
        "## Grafo"
      ]
    },
    {
      "cell_type": "code",
      "metadata": {
        "id": "37JdH3P_R-pL"
      },
      "source": [
        "class Vertice:\n",
        "\n",
        "  def __init__(self, rotulo, distancia_objetivo):\n",
        "    self.rotulo = rotulo\n",
        "    self.visitado = False\n",
        "    self.distancia_objetivo = distancia_objetivo\n",
        "    self.adjacentes = []\n",
        "\n",
        "  def adiciona_adjacente(self, adjacente):\n",
        "    self.adjacentes.append(adjacente)\n",
        "\n",
        "  def mostra_adjacentes(self):\n",
        "    for i in self.adjacentes:\n",
        "      print(i.vertice.rotulo, i.custo)"
      ],
      "execution_count": 18,
      "outputs": []
    },
    {
      "cell_type": "code",
      "metadata": {
        "id": "Hj4-etBV6eYP"
      },
      "source": [
        "class Adjacente:\n",
        "  def __init__(self, vertice, custo):\n",
        "    self.vertice = vertice\n",
        "    self.custo = custo"
      ],
      "execution_count": 19,
      "outputs": []
    },
    {
      "cell_type": "code",
      "metadata": {
        "id": "42axhC-b6r-L"
      },
      "source": [
        "class Grafo:\n",
        "  portoUniao = Vertice('Porto Uniao', 203)\n",
        "  pauloFrontin = Vertice('Paulo Frontin', 172)\n",
        "  canoinhas = Vertice('Canoinhas', 141)\n",
        "  tresBarras = Vertice('Tres Barras', 131)\n",
        "  saoMateus = Vertice('Sao Mateus do Sul', 123)\n",
        "  irati = Vertice('Irati', 139)\n",
        "  curitiba = Vertice('Curitiba', 0)\n",
        "  palmeira = Vertice('Palmeira', 59)\n",
        "  mafra = Vertice('Mafra', 94)\n",
        "  campoLargo = Vertice('Campo Largo', 27)\n",
        "  balsaNova = Vertice('Balsa Nova', 41)\n",
        "  lapa = Vertice('Lapa', 74)\n",
        "  tijucas = Vertice('Tijucas do Sul', 56)\n",
        "  araucaria = Vertice('Aracauria', 23)\n",
        "  saoJose = Vertice('Sao Jose dos Pinhais', 13)\n",
        "  contenda = Vertice('Contenda', 39)\n",
        "\n",
        "  portoUniao.adiciona_adjacente(Adjacente(pauloFrontin, 46))\n",
        "  portoUniao.adiciona_adjacente(Adjacente(saoMateus, 87))\n",
        "  portoUniao.adiciona_adjacente(Adjacente(canoinhas, 78))\n",
        "\n",
        "  pauloFrontin.adiciona_adjacente(Adjacente(portoUniao, 46))\n",
        "  pauloFrontin.adiciona_adjacente(Adjacente(irati, 75))\n",
        "\n",
        "  canoinhas.adiciona_adjacente(Adjacente(portoUniao, 78))\n",
        "  canoinhas.adiciona_adjacente(Adjacente(tresBarras, 12))\n",
        "  canoinhas.adiciona_adjacente(Adjacente(mafra, 66))\n",
        "\n",
        "  saoMateus.adiciona_adjacente(Adjacente(portoUniao, 87))\n",
        "  saoMateus.adiciona_adjacente(Adjacente(tresBarras, 43))\n",
        "  saoMateus.adiciona_adjacente(Adjacente(irati, 57))\n",
        "  saoMateus.adiciona_adjacente(Adjacente(palmeira, 77))\n",
        "  saoMateus.adiciona_adjacente(Adjacente(lapa, 60))\n",
        "\n",
        "  tresBarras.adiciona_adjacente(Adjacente(saoMateus, 43))\n",
        "  tresBarras.adiciona_adjacente(Adjacente(canoinhas, 12))\n",
        "\n",
        "  irati.adiciona_adjacente(Adjacente(pauloFrontin, 75))\n",
        "  irati.adiciona_adjacente(Adjacente(saoMateus, 57))\n",
        "  irati.adiciona_adjacente(Adjacente(palmeira, 75))\n",
        "\n",
        "  mafra.adiciona_adjacente(Adjacente(canoinhas, 66))\n",
        "  mafra.adiciona_adjacente(Adjacente(lapa, 57))\n",
        "  mafra.adiciona_adjacente(Adjacente(tijucas, 99))\n",
        "\n",
        "  palmeira.adiciona_adjacente(Adjacente(irati, 75))\n",
        "  palmeira.adiciona_adjacente(Adjacente(saoMateus, 77))\n",
        "  palmeira.adiciona_adjacente(Adjacente(campoLargo, 55))\n",
        "\n",
        "  contenda.adiciona_adjacente(Adjacente(lapa, 26))\n",
        "  contenda.adiciona_adjacente(Adjacente(balsaNova, 19))\n",
        "  contenda.adiciona_adjacente(Adjacente(araucaria, 18))\n",
        "\n",
        "  lapa.adiciona_adjacente(Adjacente(saoMateus, 60))\n",
        "  lapa.adiciona_adjacente(Adjacente(mafra, 57))\n",
        "  lapa.adiciona_adjacente(Adjacente(contenda, 26))\n",
        "\n",
        "  tijucas.adiciona_adjacente(Adjacente(mafra, 99))\n",
        "  tijucas.adiciona_adjacente(Adjacente(saoJose, 49))\n",
        "\n",
        "  balsaNova.adiciona_adjacente(Adjacente(campoLargo, 22))\n",
        "  balsaNova.adiciona_adjacente(Adjacente(curitiba, 51))\n",
        "  balsaNova.adiciona_adjacente(Adjacente(contenda, 26))\n",
        "\n",
        "  campoLargo.adiciona_adjacente(Adjacente(curitiba, 29))\n",
        "  campoLargo.adiciona_adjacente(Adjacente(balsaNova, 22))\n",
        "  campoLargo.adiciona_adjacente(Adjacente(palmeira, 55))\n",
        "\n",
        "  araucaria.adiciona_adjacente(Adjacente(curitiba, 37))\n",
        "  araucaria.adiciona_adjacente(Adjacente(contenda, 18))\n",
        "\n",
        "  saoJose.adiciona_adjacente(Adjacente(curitiba, 15))\n",
        "  saoJose.adiciona_adjacente(Adjacente(tijucas, 49))\n",
        "\n",
        "  curitiba.adiciona_adjacente(Adjacente(saoJose, 15))\n",
        "  curitiba.adiciona_adjacente(Adjacente(araucaria, 37))\n",
        "  curitiba.adiciona_adjacente(Adjacente(balsaNova, 51))\n",
        "  curitiba.adiciona_adjacente(Adjacente(campoLargo, 29))"
      ],
      "execution_count": 20,
      "outputs": []
    },
    {
      "cell_type": "code",
      "metadata": {
        "id": "qBYjaInI-N4c"
      },
      "source": [
        "grafo = Grafo()"
      ],
      "execution_count": 25,
      "outputs": []
    },
    {
      "cell_type": "markdown",
      "metadata": {
        "id": "aIjre2EzLXB0"
      },
      "source": [
        "## Vetor ordenado"
      ]
    },
    {
      "cell_type": "code",
      "metadata": {
        "id": "nEqjfib1pmTw"
      },
      "source": [],
      "execution_count": 20,
      "outputs": []
    },
    {
      "cell_type": "code",
      "metadata": {
        "id": "bHnGlmCQLYoH"
      },
      "source": [
        "import numpy as np\n",
        "class VetorOrdenado:\n",
        "\n",
        "  def __init__(self, capacidade):\n",
        "    self.capacidade = capacidade\n",
        "    self.ultima_posicao = -1\n",
        "    # Mudança no tipo de dados\n",
        "    self.valores = np.empty(self.capacidade, dtype=object)\n",
        "\n",
        "  # Referência para o vértice e comparação com a distância para o objetivo\n",
        "  def insere(self, vertice):\n",
        "    if self.ultima_posicao == self.capacidade - 1:\n",
        "      print('Capacidade máxima atingida')\n",
        "      return\n",
        "    posicao = 0\n",
        "    for i in range(self.ultima_posicao + 1):\n",
        "      posicao = i\n",
        "      if self.valores[i].distancia_objetivo > vertice.distancia_objetivo:\n",
        "        break\n",
        "      if i == self.ultima_posicao:\n",
        "        posicao = i + 1\n",
        "    x = self.ultima_posicao\n",
        "    while x >= posicao:\n",
        "      self.valores[x + 1] = self.valores[x]\n",
        "      x -= 1\n",
        "    self.valores[posicao] = vertice\n",
        "    self.ultima_posicao += 1\n",
        "\n",
        "  def imprime(self):\n",
        "    if self.ultima_posicao == -1:\n",
        "      print('O vetor está vazio')\n",
        "    else:\n",
        "      for i in range(self.ultima_posicao + 1):\n",
        "        print(i, ' - ', self.valores[i].rotulo, ' - ', self.valores[i].distancia_objetivo)"
      ],
      "execution_count": 21,
      "outputs": []
    },
    {
      "cell_type": "code",
      "metadata": {
        "id": "62HkTyWlhU42"
      },
      "source": [
        "vetor = VetorOrdenado(3)\n",
        "vetor.insere(grafo.curitiba)\n",
        "vetor.insere(grafo.saoMateus)\n",
        "vetor.insere(grafo.lapa)"
      ],
      "execution_count": 26,
      "outputs": []
    },
    {
      "cell_type": "code",
      "metadata": {
        "id": "NmIa--Shhi6D",
        "colab": {
          "base_uri": "https://localhost:8080/"
        },
        "outputId": "3462a308-327b-4432-956a-f2324ad4dd12"
      },
      "source": [
        "vetor.imprime()"
      ],
      "execution_count": 27,
      "outputs": [
        {
          "output_type": "stream",
          "name": "stdout",
          "text": [
            "0  -  Curitiba  -  0\n",
            "1  -  Lapa  -  74\n",
            "2  -  Sao Mateus do Sul  -  123\n"
          ]
        }
      ]
    },
    {
      "cell_type": "code",
      "metadata": {
        "id": "0Ffi3HY6hokf",
        "colab": {
          "base_uri": "https://localhost:8080/"
        },
        "outputId": "2f87206a-a0ae-41d6-8e12-084c04711119"
      },
      "source": [
        "vetor.insere(grafo.tijucas)\n",
        "vetor.imprime()"
      ],
      "execution_count": 28,
      "outputs": [
        {
          "output_type": "stream",
          "name": "stdout",
          "text": [
            "Capacidade máxima atingida\n",
            "0  -  Curitiba  -  0\n",
            "1  -  Lapa  -  74\n",
            "2  -  Sao Mateus do Sul  -  123\n"
          ]
        }
      ]
    },
    {
      "cell_type": "code",
      "metadata": {
        "id": "qfqtB9CNh0gB",
        "colab": {
          "base_uri": "https://localhost:8080/"
        },
        "outputId": "e60c7999-5499-470d-ff03-b0c4ab4b1d21"
      },
      "source": [
        "vetor.valores[0], vetor.valores[0].rotulo"
      ],
      "execution_count": 29,
      "outputs": [
        {
          "output_type": "execute_result",
          "data": {
            "text/plain": [
              "(<__main__.Vertice at 0x77fd3cff9690>, 'Curitiba')"
            ]
          },
          "metadata": {},
          "execution_count": 29
        }
      ]
    },
    {
      "cell_type": "markdown",
      "metadata": {
        "id": "Lmvbw_KeNYvX"
      },
      "source": [
        "## Busca gulosa"
      ]
    },
    {
      "cell_type": "code",
      "metadata": {
        "id": "dZPo4FQOh_ab"
      },
      "source": [
        "class Gulosa:\n",
        "  def __init__(self, objetivo):\n",
        "    self.objetivo = objetivo\n",
        "    self.encontrado = False\n",
        "\n",
        "  def buscar(self, atual):\n",
        "    print('-------')\n",
        "    print('Atual: {}'.format(atual.rotulo))\n",
        "    atual.visitado = True\n",
        "\n",
        "    if atual == self.objetivo:\n",
        "      self.encontrado = True\n",
        "    else:\n",
        "      vetor_ordenado = VetorOrdenado(len(atual.adjacentes))\n",
        "      for adjacente in atual.adjacentes:\n",
        "        if adjacente.vertice.visitado == False:\n",
        "          adjacente.vertice.visitado == True\n",
        "          vetor_ordenado.insere(adjacente.vertice)\n",
        "      vetor_ordenado.imprime()\n",
        "\n",
        "      if vetor_ordenado.valores[0] != None:\n",
        "        self.buscar(vetor_ordenado.valores[0])\n"
      ],
      "execution_count": 30,
      "outputs": []
    },
    {
      "cell_type": "code",
      "metadata": {
        "id": "2q06aV39jXKy",
        "colab": {
          "base_uri": "https://localhost:8080/"
        },
        "outputId": "30c84d83-3d10-42e5-fc08-0bfea4337c04"
      },
      "source": [
        "busca_gulosa = Gulosa(grafo.curitiba)\n",
        "busca_gulosa.buscar(grafo.portoUniao)"
      ],
      "execution_count": 31,
      "outputs": [
        {
          "output_type": "stream",
          "name": "stdout",
          "text": [
            "-------\n",
            "Atual: Porto Uniao\n",
            "0  -  Sao Mateus do Sul  -  123\n",
            "1  -  Canoinhas  -  141\n",
            "2  -  Paulo Frontin  -  172\n",
            "-------\n",
            "Atual: Sao Mateus do Sul\n",
            "0  -  Palmeira  -  59\n",
            "1  -  Lapa  -  74\n",
            "2  -  Tres Barras  -  131\n",
            "3  -  Irati  -  139\n",
            "-------\n",
            "Atual: Palmeira\n",
            "0  -  Campo Largo  -  27\n",
            "1  -  Irati  -  139\n",
            "-------\n",
            "Atual: Campo Largo\n",
            "0  -  Curitiba  -  0\n",
            "1  -  Balsa Nova  -  41\n",
            "-------\n",
            "Atual: Curitiba\n"
          ]
        }
      ]
    },
    {
      "cell_type": "markdown",
      "source": [
        "**Exercício**"
      ],
      "metadata": {
        "id": "FgB34FtYQ5wr"
      }
    },
    {
      "cell_type": "code",
      "source": [],
      "metadata": {
        "id": "qrqDlF1RQ9bH"
      },
      "execution_count": null,
      "outputs": []
    }
  ]
}