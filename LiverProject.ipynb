{
  "nbformat": 4,
  "nbformat_minor": 0,
  "metadata": {
    "colab": {
      "provenance": [],
      "include_colab_link": true
    },
    "kernelspec": {
      "name": "python3",
      "display_name": "Python 3"
    },
    "language_info": {
      "name": "python"
    }
  },
  "cells": [
    {
      "cell_type": "markdown",
      "metadata": {
        "id": "view-in-github",
        "colab_type": "text"
      },
      "source": [
        "<a href=\"https://colab.research.google.com/github/namqs/Estudos_IOC/blob/main/LiverProject.ipynb\" target=\"_parent\"><img src=\"https://colab.research.google.com/assets/colab-badge.svg\" alt=\"Open In Colab\"/></a>"
      ]
    },
    {
      "cell_type": "code",
      "source": [
        "!pip install pandas #instalar o pandas, a biblioteca que nos permite manipular os dados\n",
        "import pandas as pd #importando bibliotecas\n",
        "\n"
      ],
      "metadata": {
        "id": "3Yp_zu2tgi_O"
      },
      "execution_count": null,
      "outputs": []
    },
    {
      "cell_type": "code",
      "source": [
        "from google.colab import drive #conectando ao drive para pegar o arquivo\n",
        "drive.mount('/content/drive')"
      ],
      "metadata": {
        "id": "82AzSuM6O5RU"
      },
      "execution_count": null,
      "outputs": []
    },
    {
      "cell_type": "code",
      "source": [
        "# DICIONÁRIO DA TABELA:\n",
        "dic = pd.read_csv('/content/drive/MyDrive/Liver/Liver_Dictionary.csv', skiprows=1)"
      ],
      "metadata": {
        "id": "0JSYLs_mXUMZ"
      },
      "execution_count": 15,
      "outputs": []
    },
    {
      "cell_type": "code",
      "source": [
        "# DICIONARIO:\n",
        "# Mostrar significado de coluna especifica:\n",
        "filtered_dic = dic[dic['VARIABLE NAME'] == 'COD'] #é só mudar essa ultima area entre ' ' para o nome da coluna\n",
        "\n",
        "# Exiba o DataFrame filtrado de forma formatada\n",
        "columns_to_display = ['VARIABLE NAME', 'DESCRIPTION', 'FORM', 'VAR START DATE', 'VAR END DATE', 'FORM SECTION']\n",
        "\n",
        "print(filtered_dic[columns_to_display].to_string(index=False))"
      ],
      "metadata": {
        "id": "zQdPsij6Z0cB"
      },
      "execution_count": null,
      "outputs": []
    },
    {
      "cell_type": "code",
      "source": [
        "# lendo e \"nomeando\" arquivo de \"df\" para facilitar (df significa DataFrame)\n",
        "\n",
        "df = pd.read_sas('/content/drive/MyDrive/Liver/Individual Follow-up Records/liver_followup_data.sas7bdat')"
      ],
      "metadata": {
        "id": "d7W6qc-B1iF4"
      },
      "execution_count": 4,
      "outputs": []
    },
    {
      "cell_type": "code",
      "source": [
        "display(df) #mostra as 5 ultimas e primeiras linhas, 5 ultimas e primeiras colunas"
      ],
      "metadata": {
        "id": "DASkLBsb187Y"
      },
      "execution_count": null,
      "outputs": []
    },
    {
      "cell_type": "code",
      "source": [
        "df[df.columns[1:63]] #definimos o intervalo das colunas que queremos ver, é só alterar os numeros"
      ],
      "metadata": {
        "id": "jW3J09mR_1Op"
      },
      "execution_count": null,
      "outputs": []
    },
    {
      "cell_type": "code",
      "source": [],
      "metadata": {
        "id": "axZ8whyCAhUn"
      },
      "execution_count": null,
      "outputs": []
    }
  ]
}