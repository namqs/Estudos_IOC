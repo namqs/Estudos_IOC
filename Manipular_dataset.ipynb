{
  "nbformat": 4,
  "nbformat_minor": 0,
  "metadata": {
    "colab": {
      "provenance": [],
      "authorship_tag": "ABX9TyMX7s2IdQCQbuR2OV5JGRUl",
      "include_colab_link": true
    },
    "kernelspec": {
      "name": "python3",
      "display_name": "Python 3"
    },
    "language_info": {
      "name": "python"
    }
  },
  "cells": [
    {
      "cell_type": "markdown",
      "metadata": {
        "id": "view-in-github",
        "colab_type": "text"
      },
      "source": [
        "<a href=\"https://colab.research.google.com/github/namqs/Estudos_IOC/blob/main/Manipular_dataset.ipynb\" target=\"_parent\"><img src=\"https://colab.research.google.com/assets/colab-badge.svg\" alt=\"Open In Colab\"/></a>"
      ]
    },
    {
      "cell_type": "markdown",
      "source": [
        "# Instalando o Spark"
      ],
      "metadata": {
        "id": "A3A_gycweT88"
      }
    },
    {
      "cell_type": "code",
      "source": [
        "!pip install pyspark"
      ],
      "metadata": {
        "id": "cbR_AKJhecwo"
      },
      "execution_count": null,
      "outputs": []
    },
    {
      "cell_type": "markdown",
      "source": [
        "# Iniciando sessão Spark\n"
      ],
      "metadata": {
        "id": "yfZyX2Afedrw"
      }
    },
    {
      "cell_type": "code",
      "source": [
        "from pyspark.sql import SparkSession\n",
        "\n",
        "spark = SparkSession.builder \\\n",
        "    .master(\"local[*]\") \\\n",
        "    .appName(\"Colab\") \\\n",
        "    .config(\"spark.driver.memory\", \"4g\") \\\n",
        "    .config(\"spark.executor.memory\", \"4g\") \\\n",
        "    .config(\"spark.serializer\", \"org.apache.spark.serializer.KryoSerializer\") \\\n",
        "    .config(\"spark.kryo.registrationRequired\", \"false\") \\\n",
        "    .config(\"spark.sql.inMemoryColumnarStorage.batchSize\", \"10000\") \\\n",
        "    .getOrCreate()"
      ],
      "metadata": {
        "id": "SwsxRJvSekbC"
      },
      "execution_count": null,
      "outputs": []
    },
    {
      "cell_type": "markdown",
      "source": [
        "# Importando Dataframes\n"
      ],
      "metadata": {
        "id": "gXMhtcdqencs"
      }
    },
    {
      "cell_type": "code",
      "source": [],
      "metadata": {
        "id": "-CfUujRBetC3"
      },
      "execution_count": null,
      "outputs": []
    }
  ]
}